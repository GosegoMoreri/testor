{
  "metadata": {
    "language_info": {
      "codemirror_mode": {
        "name": "python",
        "version": 3
      },
      "file_extension": ".py",
      "mimetype": "text/x-python",
      "name": "python",
      "nbconvert_exporter": "python",
      "pygments_lexer": "ipython3",
      "version": "3.8"
    },
    "kernelspec": {
      "name": "python",
      "display_name": "Pyolite",
      "language": "python"
    }
  },
  "nbformat_minor": 4,
  "nbformat": 4,
  "cells": [
    {
      "cell_type": "markdown",
      "source": "# My Jupyter Notebook on IBM Watson Studio",
      "metadata": {}
    },
    {
      "cell_type": "markdown",
      "source": "**Gosego Moreri**  \nWildlife Biologist",
      "metadata": {}
    },
    {
      "cell_type": "markdown",
      "source": "_I am interested in data science because it will help me in being able to interprete data and fully convey information to the relevant stakeholders_",
      "metadata": {}
    },
    {
      "cell_type": "markdown",
      "source": "### The code below instruct to write a sentence",
      "metadata": {}
    },
    {
      "cell_type": "code",
      "source": "print (\"Compensation for problem animals incidents\")",
      "metadata": {
        "trusted": true
      },
      "execution_count": 5,
      "outputs": [
        {
          "name": "stdout",
          "text": "Compensation for problem animals incidents\n",
          "output_type": "stream"
        }
      ]
    },
    {
      "cell_type": "markdown",
      "source": "![Image of puppies](https://unsplash.com/photos/fliwkBbS7oM)  \n\n> Everything I know, I learned from dogs. **Nora Roberts**   \n\n* item one\n* item two\n* item three  \n\n1. item one\n2. item two\n3. item three\n\n",
      "metadata": {}
    },
    {
      "cell_type": "code",
      "source": "",
      "metadata": {},
      "execution_count": null,
      "outputs": []
    }
  ]
}